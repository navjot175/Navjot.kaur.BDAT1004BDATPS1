{
 "cells": [
  {
   "cell_type": "markdown",
   "id": "86cc1d10-37dd-4406-a701-aa4b976079bf",
   "metadata": {},
   "source": [
    "Question 1: Define Datatypes of Following\n",
    "\n",
    "Answer is given below\n"
   ]
  },
  {
   "cell_type": "markdown",
   "id": "07a9688c-ecbe-4c99-adb8-dcc8313a8dd8",
   "metadata": {},
   "source": [
    "5 Integer ,\n",
    "5.0 Double (or Float) ,\n",
    "5 > 1 Boolean ,\n",
    "'5' Char ,\n",
    "5 * 2 Integer (result of multiplication),\n",
    "'5' * 2 An error ,\n",
    "'5' + '2' String ,\n",
    "5 / 2 Double (result of division in C# is a double if using integers without casting) ,\n",
    "5 % 2 Integer,\n",
    "{5, 2, 1} Array or Collection (depending on context),\n",
    "5 == 3 Boolean ,\n",
    "Pi (the number) Double (It is a constant)"
   ]
  },
  {
   "cell_type": "code",
   "execution_count": null,
   "id": "85b53ae8-7034-4330-ac64-ebdef6eab579",
   "metadata": {},
   "outputs": [],
   "source": [
    "Question 2: C# Expressions"
   ]
  },
  {
   "cell_type": "markdown",
   "id": "0b9d3c93-db82-4ad5-9fe7-f41888885a5c",
   "metadata": {},
   "source": [
    "A. Number of letters in 'Supercalifragilisticexpialidocious' Answer is given below :\n"
   ]
  },
  {
   "cell_type": "code",
   "execution_count": 1,
   "id": "a6ea2c13-4a4c-49f2-a4f2-a0f77548f9cd",
   "metadata": {},
   "outputs": [
    {
     "data": {
      "text/html": [
       "\r\n",
       "<div>\r\n",
       "    <div id='dotnet-interactive-this-cell-12756.Microsoft.DotNet.Interactive.Http.HttpPort' style='display: none'>\r\n",
       "        The below script needs to be able to find the current output cell; this is an easy method to get it.\r\n",
       "    </div>\r\n",
       "    <script type='text/javascript'>\r\n",
       "async function probeAddresses(probingAddresses) {\r\n",
       "    function timeout(ms, promise) {\r\n",
       "        return new Promise(function (resolve, reject) {\r\n",
       "            setTimeout(function () {\r\n",
       "                reject(new Error('timeout'))\r\n",
       "            }, ms)\r\n",
       "            promise.then(resolve, reject)\r\n",
       "        })\r\n",
       "    }\r\n",
       "\r\n",
       "    if (Array.isArray(probingAddresses)) {\r\n",
       "        for (let i = 0; i < probingAddresses.length; i++) {\r\n",
       "\r\n",
       "            let rootUrl = probingAddresses[i];\r\n",
       "\r\n",
       "            if (!rootUrl.endsWith('/')) {\r\n",
       "                rootUrl = `${rootUrl}/`;\r\n",
       "            }\r\n",
       "\r\n",
       "            try {\r\n",
       "                let response = await timeout(1000, fetch(`${rootUrl}discovery`, {\r\n",
       "                    method: 'POST',\r\n",
       "                    cache: 'no-cache',\r\n",
       "                    mode: 'cors',\r\n",
       "                    timeout: 1000,\r\n",
       "                    headers: {\r\n",
       "                        'Content-Type': 'text/plain'\r\n",
       "                    },\r\n",
       "                    body: probingAddresses[i]\r\n",
       "                }));\r\n",
       "\r\n",
       "                if (response.status == 200) {\r\n",
       "                    return rootUrl;\r\n",
       "                }\r\n",
       "            }\r\n",
       "            catch (e) { }\r\n",
       "        }\r\n",
       "    }\r\n",
       "}\r\n",
       "\r\n",
       "function loadDotnetInteractiveApi() {\r\n",
       "    probeAddresses([\"http://192.168.56.1:2049/\", \"http://10.108.186.69:2049/\", \"http://127.0.0.1:2049/\"])\r\n",
       "        .then((root) => {\r\n",
       "        // use probing to find host url and api resources\r\n",
       "        // load interactive helpers and language services\r\n",
       "        let dotnetInteractiveRequire = require.config({\r\n",
       "        context: '12756.Microsoft.DotNet.Interactive.Http.HttpPort',\r\n",
       "                paths:\r\n",
       "            {\r\n",
       "                'dotnet-interactive': `${root}resources`\r\n",
       "                }\r\n",
       "        }) || require;\r\n",
       "\r\n",
       "            window.dotnetInteractiveRequire = dotnetInteractiveRequire;\r\n",
       "\r\n",
       "            window.configureRequireFromExtension = function(extensionName, extensionCacheBuster) {\r\n",
       "                let paths = {};\r\n",
       "                paths[extensionName] = `${root}extensions/${extensionName}/resources/`;\r\n",
       "                \r\n",
       "                let internalRequire = require.config({\r\n",
       "                    context: extensionCacheBuster,\r\n",
       "                    paths: paths,\r\n",
       "                    urlArgs: `cacheBuster=${extensionCacheBuster}`\r\n",
       "                    }) || require;\r\n",
       "\r\n",
       "                return internalRequire\r\n",
       "            };\r\n",
       "        \r\n",
       "            dotnetInteractiveRequire([\r\n",
       "                    'dotnet-interactive/dotnet-interactive'\r\n",
       "                ],\r\n",
       "                function (dotnet) {\r\n",
       "                    dotnet.init(window);\r\n",
       "                },\r\n",
       "                function (error) {\r\n",
       "                    console.log(error);\r\n",
       "                }\r\n",
       "            );\r\n",
       "        })\r\n",
       "        .catch(error => {console.log(error);});\r\n",
       "    }\r\n",
       "\r\n",
       "// ensure `require` is available globally\r\n",
       "if ((typeof(require) !==  typeof(Function)) || (typeof(require.config) !== typeof(Function))) {\r\n",
       "    let require_script = document.createElement('script');\r\n",
       "    require_script.setAttribute('src', 'https://cdnjs.cloudflare.com/ajax/libs/require.js/2.3.6/require.min.js');\r\n",
       "    require_script.setAttribute('type', 'text/javascript');\r\n",
       "    \r\n",
       "    \r\n",
       "    require_script.onload = function() {\r\n",
       "        loadDotnetInteractiveApi();\r\n",
       "    };\r\n",
       "\r\n",
       "    document.getElementsByTagName('head')[0].appendChild(require_script);\r\n",
       "}\r\n",
       "else {\r\n",
       "    loadDotnetInteractiveApi();\r\n",
       "}\r\n",
       "\r\n",
       "    </script>\r\n",
       "</div>"
      ]
     },
     "metadata": {},
     "output_type": "display_data"
    },
    {
     "name": "stdout",
     "output_type": "stream",
     "text": [
      "The number of letters in 'Supercalifragilisticexpialidocious' is: 34\n"
     ]
    }
   ],
   "source": [
    "string word = \"Supercalifragilisticexpialidocious\";\n",
    "int letterCount = word.Length;\n",
    "Console.WriteLine($\"The number of letters in '{word}' is: {letterCount}\");"
   ]
  },
  {
   "cell_type": "markdown",
   "id": "d42098c5-80c6-40fe-a884-df7a68796f9a",
   "metadata": {},
   "source": [
    "B. Does 'Supercalifragilisticexpialidocious' contain 'ice' as a substring? Answer is given below :"
   ]
  },
  {
   "cell_type": "code",
   "execution_count": 3,
   "id": "b99881d3-366d-4713-b866-f761f84a1246",
   "metadata": {},
   "outputs": [
    {
     "name": "stdout",
     "output_type": "stream",
     "text": [
      "Does 'Supercalifragilisticexpialidocious' contain 'ice'? True\n"
     ]
    }
   ],
   "source": [
    "        string word1 = \"Supercalifragilisticexpialidocious\";\n",
    "        string substring = \"ice\";\n",
    "\n",
    "        bool HaveSubstring = word1.Contains(substring);\n",
    "\n",
    "        Console.WriteLine($\"Does '{word1}' contain '{substring}'? {HaveSubstring}\");"
   ]
  },
  {
   "cell_type": "markdown",
   "id": "d68d406d-aadd-4c0e-9579-6190ee7f0594",
   "metadata": {},
   "source": [
    "C.Which of the following words is the longest: Supercalifragilisticexpialidocious,Honorificabilitudinitatibus, or Bababadalgharaghtakamminarronnkonn?\n",
    "\n",
    "Answer is given below :\n"
   ]
  },
  {
   "cell_type": "code",
   "execution_count": 9,
   "id": "05deaa1b-940b-4bea-9c94-330d205eabf8",
   "metadata": {},
   "outputs": [
    {
     "name": "stdout",
     "output_type": "stream",
     "text": [
      "The longest word is: Supercalifragilisticexpialidocious with 34  characters.\n"
     ]
    }
   ],
   "source": [
    "        string letter1 = \"Supercalifragilisticexpialidocious\";\n",
    "        string letter2 = \"Honorificabilitudinitatibus\";\n",
    "        string letter3 = \"Bababadalgharaghtakamminarronnkonn\";\n",
    "\n",
    "       \n",
    "        string longest = letter1; \n",
    "\n",
    "        if (letter2.Length > longest.Length)\n",
    "        {\n",
    "            longest = letter2;\n",
    "        }\n",
    "        \n",
    "        if (letter3.Length > longest.Length)\n",
    "        {\n",
    "            longest = letter3;\n",
    "        }\n",
    "\n",
    "       \n",
    "        Console.WriteLine($\"The longest word is: {longest} with {longest.Length}  characters.\");"
   ]
  },
  {
   "cell_type": "code",
   "execution_count": null,
   "id": "a614e8a7-46b4-4078-aace-20ea435d7581",
   "metadata": {},
   "outputs": [],
   "source": [
    "D. Which composer comes first in the dictionary: 'Berlioz', 'Borodin', 'Brian', 'Bartok', 'Bellini', 'Buxtehude', 'Bernstein'. Which one comes last?\n",
    "\n",
    "Answer is given below:\n"
   ]
  },
  {
   "cell_type": "code",
   "execution_count": 7,
   "id": "75987410-5565-4399-87bf-ffc5f7d8a224",
   "metadata": {},
   "outputs": [
    {
     "name": "stdout",
     "output_type": "stream",
     "text": [
      "First composer: Bartok\n",
      "Last composer: Buxtehude\n"
     ]
    }
   ],
   "source": [
    " string[] dictionary1 = { \"Berlioz\", \"Borodin\", \"Brian\", \"Bartok\", \"Bellini\", \"Buxtehude\", \"Bernstein\" };\n",
    "        var sortedDictionary = dictionary1.OrderBy(d => d).ToArray();\n",
    "\n",
    "        string firstComposer = sortedDictionary.First();\n",
    "        string lastComposer = sortedDictionary.Last();\n",
    "        Console.WriteLine($\"First composer in the dictionary : {firstComposer}\");\n",
    "        Console.WriteLine($\"Last composer in the dictionary :  {lastComposer}\");\n"
   ]
  },
  {
   "cell_type": "markdown",
   "id": "6a0f40e8-cd60-4fe1-a1ef-07eaf30206e7",
   "metadata": {},
   "source": [
    "Question 3 C#\n",
    "Implement function triangleArea(a,b,c) that takes as input the lengths of the 3\n",
    "sides of a triangle and returns the area of the triangle. By Heron's formula, the area\n",
    "of a triangle with side lengths a, b, and c is  squareroot s(s − a)(s −b)(s −c), where\n",
    "s = (a + b + c)/2.\n",
    "Input for triangleArea(2,2,2)\n",
    "Output expected is 1.7320508075688772,below is given answer :"
   ]
  },
  {
   "cell_type": "code",
   "execution_count": 9,
   "id": "a18f3d6f-296a-45e9-a48c-a52cecce777a",
   "metadata": {},
   "outputs": [
    {
     "name": "stdout",
     "output_type": "stream",
     "text": [
      "1.7320508075688772\n"
     ]
    }
   ],
   "source": [
    "double area = TriangleArea(2, 2, 2);\n",
    "Console.WriteLine(area);\n",
    "    \n",
    "\n",
    "    static double TriangleArea(double a, double b, double c)\n",
    "    {\n",
    "        \n",
    "        double s = (a + b + c) / 2;\n",
    "\n",
    "        double area = Math.Sqrt(s * (s - a) * (s - b) * (s - c));\n",
    "\n",
    "        return area;\n",
    "    }"
   ]
  },
  {
   "cell_type": "markdown",
   "id": "bda7758e-3a24-4906-9f95-d5964be390c4",
   "metadata": {},
   "source": [
    "Question 4 C#\n",
    "Write a program in C# Sharp to separate odd and even integers in separate arrays.\n",
    "Go to the editor\n",
    "\n",
    "Test Data :\n",
    "\n",
    "Input the number of elements to be stored in the array :5\n",
    "Input 5 elements in the array :\n",
    "element - 0 : 25\n",
    "element - 1 : 47\n",
    "element - 2 : 42\n",
    "element - 3 : 56\n",
    "element - 4 : 32\n",
    "\n",
    "Expected Output:\n",
    "The Even elements are:\n",
    "42 56 32\n",
    "The Odd elements are :\n",
    "25 47\n",
    "Given below is the code for this question"
   ]
  },
  {
   "cell_type": "code",
   "execution_count": 9,
   "id": "9f9126e5-50e3-4835-9626-03dbb7d830b5",
   "metadata": {},
   "outputs": [
    {
     "name": "stdout",
     "output_type": "stream",
     "text": [
      "The Even elements are:\n",
      "42 56 32\n",
      "The Odd elements are:\n",
      "25 47\n"
     ]
    }
   ],
   "source": [
    "\n",
    "       \n",
    "        int[] nums = { 25, 47, 42, 56, 32 }; \n",
    "        \n",
    "       \n",
    "        List<int> oddNums = new List<int>();\n",
    "        List<int> evenNums = new List<int>();\n",
    "\n",
    "        \n",
    "        foreach (int number in nums)\n",
    "        {\n",
    "            if (number % 2 == 0)\n",
    "            {\n",
    "                evenNums.Add(number);\n",
    "            }\n",
    "            else\n",
    "            {\n",
    "                oddNums.Add(number);\n",
    "            }\n",
    "        }\n",
    "\n",
    "    \n",
    "        Console.WriteLine(\"The Even elements are:\");\n",
    "        Console.WriteLine(string.Join(\" \", evenNums));\n",
    "\n",
    "        Console.WriteLine(\"The Odd elements are:\");\n",
    "        Console.WriteLine(string.Join(\" \", oddNums));\n",
    "    \n",
    "\n",
    "\n",
    "\n",
    "\n"
   ]
  },
  {
   "cell_type": "markdown",
   "id": "d7500a6d-6994-4e0c-905e-07e798ee3ac2",
   "metadata": {},
   "source": [
    "Question 5 C#\n",
    "Part A. Write a function inside(x,y,x1,y1,x2,y2) that returns True or False\n",
    "dependingonwhetherthepoint(x,y)liesintherectanglewithlowerleft\n",
    "corner (x1,y1) and upper right corner (x2,y2).\n",
    ">>> inside(1,1,0,0,2,3)\n",
    "True\n",
    ">>> inside(-1,-1,0,0,2,3)\n",
    "False\n"
   ]
  },
  {
   "cell_type": "code",
   "execution_count": null,
   "id": "1a452215-2332-4785-936a-946b7d7895bc",
   "metadata": {},
   "outputs": [],
   "source": [
    "Console.WriteLine(Inside(1, 1, 0, 0, 2, 3)); \n",
    "Console.WriteLine(Inside(-1, -1, 0, 0, 2, 3));\n",
    "    \n",
    "    static bool Inside(double x, double y, double x1, double y1, double x2, double y2)\n",
    "    {\n",
    "        return (x >= x1 && x <= x2 && y >= y1 && y <= y2);\n",
    "    }\n"
   ]
  },
  {
   "cell_type": "markdown",
   "id": "335c81e4-a81c-48de-866e-638ea3c033bc",
   "metadata": {},
   "source": [
    "Part B .Use function inside()from part a. to write an expression that tests whether\n",
    "the point (1,1) lies in both of the following rectangles: one with lower left\n",
    "corner (0.3, 0.5) and upper right corner (1.1, 0.7) and the other with lower\n",
    "left corner (0.5, 0.2) and upper right corner (1.1, 2).\n"
   ]
  },
  {
   "cell_type": "code",
   "execution_count": 7,
   "id": "34eba7e0-ee04-4acd-8c6f-0abeff8882a3",
   "metadata": {},
   "outputs": [
    {
     "name": "stdout",
     "output_type": "stream",
     "text": [
      "True\n",
      "False\n",
      "Point (1, 1) in Rectangle 1: False\n",
      "Point (1, 1) in Rectangle 2: True\n",
      "Point (1, 1) in both rectangles: False\n"
     ]
    }
   ],
   "source": [
    "Console.WriteLine(Inside(1, 1, 0, 0, 2, 3)); \n",
    "Console.WriteLine(Inside(-1, -1, 0, 0, 2, 3));\n",
    "  \n",
    "    static bool Inside(double x, double y, double x1, double y1, double x2, double y2)\n",
    "    {\n",
    "        return (x >= x1 && x <= x2 && y >= y1 && y <= y2);\n",
    "    }\n",
    "\n",
    "   \n",
    "        bool inRec1 = Inside(1, 1, 0.3, 0.5, 1.1, 0.7);\n",
    "        bool inRec2 = Inside(1, 1, 0.5, 0.2, 1.1, 2);\n",
    "\n",
    "    \n",
    "        Console.WriteLine($\"Point (1, 1) in Rectangle 1: {inRec1}\");\n",
    "        Console.WriteLine($\"Point (1, 1) in Rectangle 2: {inRec2}\");\n",
    "\n",
    "        \n",
    "        bool inBothRec = inRec1 && inRec2;\n",
    "        Console.WriteLine($\"Point (1, 1) in both rectangles: {inBothRec}\");"
   ]
  },
  {
   "cell_type": "markdown",
   "id": "efd33590-6d05-4b60-9008-0fdf117569df",
   "metadata": {},
   "source": [
    "Question 6 Python.           \n",
    "===================="
   ]
  },
  {
   "cell_type": "code",
   "execution_count": null,
   "id": "c1a218e9-8fdf-4c91-a5aa-59f583d95752",
   "metadata": {},
   "outputs": [],
   "source": [
    "You can turn a word into pig-Latin using the following two rules(simplified):\n",
    "• If the word starts with a consonant, move that letter to the end and append\n",
    "'ay'. For example, 'happy' becomes 'appyhay' and 'pencil' becomes 'encilpay'.\n",
    "• If the word starts with a vowel, simply append 'way' to the end of the word.\n",
    "For example, 'enter' becomes 'enterway' and 'other' becomes 'otherway' . For\n",
    "our purposes, there are 5 vowels: a, e, i, o, u (so we count y as a consonant).\n",
    "Write a function pig() that takes a word (i.e., a string) as input and returns its pigLatin form. Your function should still work if the input word contains upper case\n",
    "characters. Your output should always be lower case however."
   ]
  },
  {
   "cell_type": "markdown",
   "id": "7637672d-abdb-4a42-b731-cb9c25716708",
   "metadata": {},
   "source": [
    "Input Data :   pig('happy')\n",
    "              'appyhay'\n",
    "              pig('Enter')\n",
    "              'enterway"
   ]
  },
  {
   "cell_type": "code",
   "execution_count": 1,
   "id": "aaaa88e7-6236-41dc-92e6-436683f8ca75",
   "metadata": {},
   "outputs": [
    {
     "name": "stdout",
     "output_type": "stream",
     "text": [
      "appyhay\n",
      "enterway\n",
      "encilpay\n",
      "otherway\n"
     ]
    }
   ],
   "source": [
    "def pig(myword):\n",
    "   \n",
    "    myword = myword.lower()\n",
    "    if myword[0] in 'aeiou':\n",
    "        return myword + 'way'\n",
    "    else:\n",
    "      return myword[1:] + myword[0] + 'ay'\n",
    "\n",
    "\n",
    "print(pig('happy'))  \n",
    "print(pig('Enter'))  \n",
    "print(pig('pencil')) \n",
    "print(pig('other'))  \n"
   ]
  },
  {
   "cell_type": "code",
   "execution_count": null,
   "id": "b73528c9-4f1d-4b1e-be8f-37648676bc4f",
   "metadata": {},
   "outputs": [],
   "source": [
    "write a file bloodtype1.txt needed for question 7"
   ]
  },
  {
   "cell_type": "code",
   "execution_count": 3,
   "id": "f9b071e5-b625-45b4-b5d0-f1aa0cd006e0",
   "metadata": {},
   "outputs": [],
   "source": [
    "with open('bloodtype1.txt', 'w') as f:\n",
    "    f.write('A A B AB O O O OO AB A')"
   ]
  },
  {
   "cell_type": "markdown",
   "id": "f205c961-4800-4d6a-a58a-287de2e12a27",
   "metadata": {},
   "source": [
    "Question 7 Python\n",
    "File bloodtype1.txt records blood-types of patients (A, B, AB, O or OO) at a clinic.\n",
    "Write a function bldcount() that reads the file with name name and reports (i.e.,\n",
    "prints) how many patients there are in each bloodtype.\n",
    ">>> bldcount('bloodtype.txt')\n",
    "There are 10 patients of blood type A.\n",
    "There is one patient of blood type B.\n",
    "There are 10 patients of blood type AB.\n",
    "There are 12 patients of blood type O.\n",
    "There are no patients of blood type OO."
   ]
  },
  {
   "cell_type": "code",
   "execution_count": 5,
   "id": "3ab73003-c047-4a2a-baf1-d33d437e7776",
   "metadata": {},
   "outputs": [
    {
     "name": "stdout",
     "output_type": "stream",
     "text": [
      "There are 3 patients of blood type A.\n",
      "There is one patient of blood type B.\n",
      "There are 2 patients of blood type AB.\n",
      "There are 3 patients of blood type O.\n",
      "There is one patient of blood type OO.\n"
     ]
    }
   ],
   "source": [
    "def bldcount(filename):\n",
    "    \n",
    "    blood_types = {\n",
    "        'A': 0,\n",
    "        'B': 0,\n",
    "        'AB': 0,\n",
    "        'O': 0,\n",
    "        'OO': 0\n",
    "    }\n",
    "    \n",
    "   \n",
    "    try:\n",
    "        with open(filename, 'r') as file:\n",
    "           \n",
    "            data = file.read().strip().split()\n",
    "        \n",
    "      \n",
    "        for blood in data:\n",
    "            if blood in blood_types:\n",
    "                blood_types[blood] += 1\n",
    "        \n",
    "      \n",
    "        for blood_type, count in blood_types.items():\n",
    "            if count == 1:\n",
    "                print(f\"There is one patient of blood type {blood_type}.\")\n",
    "            elif count == 0:\n",
    "                print(f\"There are no patients of blood type {blood_type}.\")\n",
    "            else:\n",
    "                print(f\"There are {count} patients of blood type {blood_type}.\")\n",
    "    \n",
    "    except FileNotFoundError:\n",
    "        print(f\"Error: The file {filename} was not found.\")\n",
    "\n",
    "bldcount('bloodtype1.txt')\n"
   ]
  },
  {
   "cell_type": "markdown",
   "id": "7dc6f8f5-104c-445e-bc9a-048bb80b66f0",
   "metadata": {},
   "source": [
    "write a currency file : currencies.txt (needed for question 8)\n",
    "========================="
   ]
  },
  {
   "cell_type": "code",
   "execution_count": 23,
   "id": "95a9e1d2-22c3-4ee7-9bf1-454ecd0d80ea",
   "metadata": {},
   "outputs": [],
   "source": [
    "with open('currencies.txt', 'w') as f:\n",
    " f.write(\"\"\"AUD 1.0345157\n",
    "CHF 1.0237414\n",
    "CNY 0.1550176\n",
    "DKK 0.1651442\n",
    "EUR 1.2296544\n",
    "GBP 1.5550989\n",
    "HKD 0.1270207\n",
    "INR 0.0177643\n",
    "JPY 0.01241401\n",
    "MXN 0.0751848\n",
    "MYR 0.3145411\n",
    "NOK 0.1677063\n",
    "NZD 0.8003591\n",
    "PHP 0.0233234\n",
    "SEK 0.148269\n",
    "SGD 0.788871\n",
    "THB 0.0313789\n",
    "\"\"\")\n"
   ]
  },
  {
   "cell_type": "markdown",
   "id": "0fd142a6-bea5-4cee-a24b-b17bf4871f18",
   "metadata": {},
   "source": [
    "Question 8 Python\n",
    "======================\n",
    "Write a function curconv() that takes as input:\n",
    "1. a currency represented using a string (e.g., 'JPY' for the Japanese Yen or\n",
    "'EUR' for the Euro)\n",
    "2. an amount\n",
    "and then converts and returns the amount in US dollars. \n",
    ">>> curconv('EUR', 100)\n",
    "122.96544\n",
    ">>> curconv('JPY', 100)\n",
    "1.241401"
   ]
  },
  {
   "cell_type": "code",
   "execution_count": 21,
   "id": "dfcbec4c-0b4c-4319-9c6c-11aa3a1db955",
   "metadata": {},
   "outputs": [
    {
     "name": "stdout",
     "output_type": "stream",
     "text": [
      "122.96544\n",
      "1.241401\n"
     ]
    }
   ],
   "source": [
    "\n",
    "\n",
    "\n",
    "# Your curconv function here\n",
    "def curconv(currency, amount):\n",
    " currency_rates = {}\n",
    " \n",
    " try:\n",
    "     with open('currencies.txt', 'r') as file:\n",
    "         for line in file:\n",
    "             line = line.strip()\n",
    "             if line:\n",
    "                 parts = line.split()\n",
    "                 if len(parts) >= 2:\n",
    "                     currency_code = parts[0]\n",
    "                     exchange_rate = float(parts[1])\n",
    "                     currency_rates[currency_code] = exchange_rate\n",
    "\n",
    "     if currency in currency_rates:\n",
    "         return amount * currency_rates[currency]\n",
    "     else:\n",
    "         raise ValueError(f\"Currency '{currency}' not found.\")\n",
    " \n",
    " except FileNotFoundError:\n",
    "     print(\"Error: The file 'currencies.txt' was not found.\")\n",
    " except ValueError as e:\n",
    "     print(e)\n",
    "\n",
    "# Example usage\n",
    "print(curconv('EUR', 100))\n",
    "print(curconv('JPY', 100))\n"
   ]
  },
  {
   "cell_type": "markdown",
   "id": "e1a104c4-a2be-4571-8f90-340823db0782",
   "metadata": {},
   "source": [
    "Question 9 Python\n",
    "Each of the following will cause an exception (an error). Identify what type of\n",
    "exception each will cause.\n",
    "\n",
    "Trying to add incompatible variables, as in\n",
    "adding 6 + ‘a’\n",
    "Referring to the 12th item of a list that has only 10\n",
    "items\n",
    "Using a value that is out ofrange for a function’s\n",
    "input, such as calling math.sqrt(-1.0)\n",
    "Using an undeclared variable, such as print(x)\n",
    "when x has not been defined\n",
    "Trying to open a file that does not exist, such as\n",
    "mistyping the file name or looking in the wrong\n",
    "directory"
   ]
  },
  {
   "cell_type": "markdown",
   "id": "db8920cc-ea8e-4a45-8ebd-8077fcfb1340",
   "metadata": {},
   "source": [
    "Ques1)Trying to add incompatible variables (e.g., 6 + 'a'):\n",
    "Ans : TypeError as Python does not allow adding an integer and a string together.\n",
    "\n",
    "Ques2)Referring to the 12th item of a list that has only 10 items:\n",
    "Ans : IndexError. It occurs when trying to access an index that is out of range for the list.\n",
    "\n",
    "Ques3)Using a value that is out of range for a function’s input (e.g., math.sqrt(-1.0)):\n",
    "Ans :ValueError as square root function is not defined for negative numbers in the realm of real numbers.\n",
    "\n",
    "Ques4)Using an undeclared variable (e.g., print(x) when x has not been defined):\n",
    "Ans : NameError as trying to reference a variable that has not been defined in the current scope.\n",
    "\n",
    "Ques5)Trying to open a file that does not exist (e.g., mistyping the file name):\n",
    "Ans : FileNotFoundError ( Python cannot find the specified file in the directory)"
   ]
  },
  {
   "cell_type": "markdown",
   "id": "f4ad3d61-2dca-4b7a-b315-c0cb851143e1",
   "metadata": {},
   "source": [
    "Question 10 Python\n",
    "======================\n",
    " Write a function called frequencies()\n",
    "that takes a string as its only parameter, and returns a list of integers, showing the\n",
    "number of times each character appears in the text. Your function may ignore any\n",
    "characters that are not in letters.\n",
    ">>> frequencies('The quick red fox got bored and went home.')\n",
    "[1, 1, 1, 3, 5, 1, 1, 2, 1, 0, 1, 0, 1, 2, 4, 0, 1, 2, 0, 2,\n",
    "1, 0, 1, 1, 0, 0]\n",
    ">>> frequencies('apple')"
   ]
  },
  {
   "cell_type": "code",
   "execution_count": 45,
   "id": "ef39354c-f760-45da-b334-cf89945ca118",
   "metadata": {},
   "outputs": [
    {
     "name": "stdout",
     "output_type": "stream",
     "text": [
      "[1, 1, 1, 3, 5, 1, 1, 2, 1, 0, 1, 0, 1, 2, 4, 0, 1, 2, 0, 3, 1, 0, 1, 1, 0, 0]\n",
      "[1, 0, 0, 0, 1, 0, 0, 0, 0, 0, 0, 1, 0, 0, 0, 2, 0, 0, 0, 0, 0, 0, 0, 0, 0, 0]\n"
     ]
    }
   ],
   "source": [
    "def frequencies(text):\n",
    "    wordbase = 'abcdefghijklmnopqrstuvwxyz'\n",
    "    frequency = [0] * 26 \n",
    "\n",
    "    text = text.lower()\n",
    "    for char in text:\n",
    "        if char in wordbase:\n",
    "            index = wordbase.index(char)\n",
    "            frequency[index] += 1\n",
    "    return frequency\n",
    "print(frequencies('The quick red fox got bored and went home.'))\n",
    "print(frequencies('apple'))\n"
   ]
  },
  {
   "cell_type": "code",
   "execution_count": null,
   "id": "5c2eb438-05eb-4ec3-835c-a04bdc82d80d",
   "metadata": {},
   "outputs": [],
   "source": []
  }
 ],
 "metadata": {
  "kernelspec": {
   "display_name": ".NET (C#)",
   "language": "C#",
   "name": ".net-csharp"
  },
  "language_info": {
   "file_extension": ".cs",
   "mimetype": "text/x-csharp",
   "name": "C#",
   "pygments_lexer": "csharp",
   "version": "12.0"
  }
 },
 "nbformat": 4,
 "nbformat_minor": 5
}
