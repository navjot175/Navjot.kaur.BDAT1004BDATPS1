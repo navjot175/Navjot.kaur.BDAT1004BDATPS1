{
 "cells": [
  {
   "cell_type": "markdown",
   "id": "214ddd09-f774-4c92-8083-aa26a4b58677",
   "metadata": {},
   "source": [
    "Question 1\n",
    "Consider the following Python module:\n",
    "a = 0\n",
    "def b():\n",
    "global a\n",
    "a = c(a)\n",
    "def c(a):\n",
    "return a + 2\n",
    "After importing the module into the interpreter, you execute:\n",
    ">>> b()\n",
    ">>> b()\n",
    ">>> b()\n",
    ">>> a\n",
    "?\n",
    "What value is displayed when the last expression (a) is evaluated? Explain your\n",
    "answer by indicating what happens in every executed statement.                                                                                                                                                             \n",
    "\n"
   ]
  },
  {
   "cell_type": "code",
   "execution_count": null,
   "id": "e17d201d-6256-4f0d-8e6b-c9da79e1e652",
   "metadata": {},
   "outputs": [],
   "source": [
    "Answer 1:\n",
    "\n",
    "The value displayed when the last expression a is evaluated is 6.\n",
    "At first :\n",
    "o\ta = 0: Initializing the global variable a with a value of 0.\n",
    "o\tdef b(): Defines the function b \n",
    "o\tInside b(), global a tells Python that a refers to the global variable.\n",
    "o\ta = c(a): Calls function c with a as an argument and assigns the returned result back to the global a.\n",
    "o\tdef c(a): Defines the function c, which takes an argument a and returns a + 2.\n",
    "==================================================================================================================\n",
    "2.\t1st time Executing b() :\n",
    "o\tb() is called.\n",
    "o\tInside b(), global a specifies that a refers to the global variable a.\n",
    "o\ta = c(a) calls c(a) with a = 0.\n",
    "o\tc(0) returns 0 + 2 = 2, a has updated value 2.\n",
    "==================================================================================================================\n",
    "3.\t2nd time Executing b():\n",
    "o\tb() is called again.\n",
    "o\ta = c(a) is now a = c(2).\n",
    "o\tc(2) returns 2 + 2 = 4, a has updated value 4.\n",
    "================================================================================================================\n",
    "4.\t3rd time Executing b() \n",
    "o\tb() is called again.\n",
    "o\ta = c(a) is now a = c(4).\n",
    "o\tc(4) returns 4 + 2 = 6, so a has updated value 6.\n",
    "===============================================================================================================\n",
    "6.\tEvaluating a:\n",
    "o\tThe final value of a is 6.\n"
   ]
  },
  {
   "cell_type": "markdown",
   "id": "a3165e2e-4820-422f-a25e-ba4add055ce7",
   "metadata": {},
   "source": [
    "Question 2\n",
    "Function fileLength(), given to you, takes the name of a file as input and returns\n",
    "the length of the file:\n",
    ">>> fileLength('midterm.py')\n",
    "284\n",
    ">>> fileLength('idterm.py')\n",
    "Traceback (most recent call last):\n",
    "File \"<pyshell#34>\", line 1, in <module>\n",
    "fileLength('idterm.py')\n",
    "File \"/Users/me/midterm.py\", line 3, in fileLength\n",
    "infile = open(filename)\n",
    "FileNotFoundError: [Errno 2] No such file or directory:\n",
    "'idterm.py'\n",
    "As shown above, if the file cannot be found by the interpreter or if it cannot be read\n",
    "as a text file, an exception will be raised. Modify function fileLength() so that a\n",
    "friendly message is printed instead:\n",
    ">>> fileLength('midterm.py')\n",
    "358\n",
    ">>> fileLength('idterm.py')\n",
    "File idterm.py not found."
   ]
  },
  {
   "cell_type": "code",
   "execution_count": 11,
   "id": "304d3db7-8e99-496f-9a0c-71cef9be664a",
   "metadata": {},
   "outputs": [],
   "source": [
    "def get_file_length(file_name):\n",
    "    try:\n",
    "        file = open(file_name)  \n",
    "        contents = file.read()  \n",
    "        file.close()  \n",
    "        return len(contents) \n",
    "    except FileNotFoundError:  \n",
    "        print(f\"File {file_name} not found.\") \n",
    "   "
   ]
  },
  {
   "cell_type": "markdown",
   "id": "13448708-fbd0-4a37-80af-86cc083b26e1",
   "metadata": {},
   "source": [
    "Question 3\n",
    "Write a class named Marsupial that can be used as shown below:\n",
    ">>> m = Marsupial()\n",
    ">>> m.put_in_pouch('doll')\n",
    ">>> m.put_in_pouch('firetruck')\n",
    ">>> m.put_in_pouch('kitten')\n",
    ">>> m.pouch_contents()\n",
    "['doll', 'firetruck', 'kitten']  Now write a class named Kangaroo as a subclass of Marsupial that inherits all the\n",
    "attributes of Marsupial and also:\n",
    "a. extends the Marsupial __init__ constructor to take, as input, the\n",
    "coordinates x and y of the Kangaroo object,\n",
    "b. supports method jump that takes number values dx and dy as input and\n",
    "moves the kangaroo by dx units along the x-axis and by dy units along the y-\n",
    "axis, and\n",
    "c. overloads the __str__ operator so it behaves as shown below.\n",
    ">>> k = Kangaroo(0,0)\n",
    ">>> print(k)\n",
    "I am a Kangaroo located at coordinates (0,0)\n",
    ">>> k.put_in_pouch('doll')\n",
    ">>> k.put_in_pouch('firetruck')\n",
    ">>> k.put_in_pouch('kitten')\n",
    ">>> k.pouch_contents()\n",
    "['doll', 'firetruck', 'kitten']\n",
    ">>> k.jump(1,0)\n",
    ">>> k.jump(1,0)\n",
    ">>> k.jump(1,0)\n",
    ">>> print(k)\n",
    "I am a Kangaroo located at coordinates (3,0"
   ]
  },
  {
   "cell_type": "code",
   "execution_count": 13,
   "id": "b1025329-cbb3-461f-a0cc-0e39feffd1c6",
   "metadata": {},
   "outputs": [
    {
     "name": "stdout",
     "output_type": "stream",
     "text": [
      "['doll', 'firetruck', 'kitten']\n",
      "I am a Kangaroo located at coordinates (0,0)\n",
      "['doll', 'firetruck', 'kitten']\n",
      "I am a Kangaroo located at coordinates (3,0)\n"
     ]
    }
   ],
   "source": [
    "class Marsupial:\n",
    "    def __init__(self):\n",
    "        self.pouch = []  \n",
    "    def add_to_pouch(self, item):\n",
    "        self.pouch.append(item) \n",
    "    def get_pouch_contents(self):\n",
    "        return self.pouch \n",
    "class Kangaroo(Marsupial):\n",
    "    def __init__(self, x, y):\n",
    "        super().__init__()  \n",
    "        self.x = x \n",
    "        self.y = y  \n",
    "    def leap(self, dx, dy):\n",
    "        self.x += dx \n",
    "        self.y += dy  \n",
    "    def __str__(self):\n",
    "        return f\"I am a Kangaroo located at coordinates ({self.x},{self.y})\" \n",
    "msl = Marsupial()\n",
    "msl.add_to_pouch('doll')\n",
    "msl.add_to_pouch('firetruck')\n",
    "msl.add_to_pouch('kitten')\n",
    "print(msl.get_pouch_contents())  \n",
    "kang = Kangaroo(0, 0)\n",
    "print(kang) \n",
    "kang.add_to_pouch('doll')\n",
    "kang.add_to_pouch('firetruck')\n",
    "kang.add_to_pouch('kitten')\n",
    "print(kang.get_pouch_contents())  \n",
    "kang.leap(1, 0)\n",
    "kang.leap(1, 0)\n",
    "kang.leap(1, 0)\n",
    "print(kang)  \n"
   ]
  },
  {
   "cell_type": "markdown",
   "id": "34f1b6fe-5e4d-487a-bfb1-17fcf279d574",
   "metadata": {},
   "source": [
    "Question 4\n",
    "Write function collatz() that takes a positive integer x as input and prints the\n",
    "Collatz sequence starting at x. A Collatz sequence is obtained by repeatedly applying\n",
    "this rule to the previous number x in the sequence:\n",
    "x = { 𝑥/2 𝑖𝑓 𝑥 𝑖𝑠 𝑒𝑣𝑒𝑛3𝑥\n",
    "+ 1 𝑖𝑓 𝑥 𝑖𝑠 𝑜𝑑𝑑\n",
    "Your function should stop when the sequence gets to number 1. Your\n",
    "implementation must be recursive, without any loops.                                                                                                       >>> collatz(1)\n",
    "1\n",
    ">>> collatz(10)\n",
    "10\n",
    "5\n",
    "16\n",
    "8\n",
    "4\n",
    "2\n",
    "1"
   ]
  },
  {
   "cell_type": "code",
   "execution_count": null,
   "id": "0053905d-4b68-41be-8717-076b06cf9234",
   "metadata": {},
   "outputs": [],
   "source": [
    "Answer 4 is given below :"
   ]
  },
  {
   "cell_type": "code",
   "execution_count": 17,
   "id": "379d1bb6-97e0-407a-8978-60c5323ba14c",
   "metadata": {},
   "outputs": [
    {
     "name": "stdout",
     "output_type": "stream",
     "text": [
      "1\n",
      "\n",
      "10\n",
      "5\n",
      "16\n",
      "8\n",
      "4\n",
      "2\n",
      "1\n"
     ]
    }
   ],
   "source": [
    "def collatz(x):\n",
    "    print(x)  \n",
    "    if x == 1:  \n",
    "        return\n",
    "    elif x % 2 == 0:  \n",
    "        collatz(x // 2) \n",
    "    else:  \n",
    "        collatz(3 * x + 1) \n",
    "        \n",
    "collatz(1)\n",
    "print()  #\n",
    "collatz(10)\n"
   ]
  },
  {
   "cell_type": "code",
   "execution_count": null,
   "id": "064d6f5a-bd74-4594-bc3f-e06012fbb28a",
   "metadata": {},
   "outputs": [],
   "source": [
    "Question 5\n",
    "Write a recursive method binary() that takes a non-negative\n",
    "integer n and prints the binary representation of integer n.\n",
    ">>> binary(0)\n",
    "0\n",
    ">>> binary(1)\n",
    "1\n",
    ">>> binary(3)\n",
    "11\n",
    ">>> binary(9)\n",
    "1001"
   ]
  },
  {
   "cell_type": "markdown",
   "id": "89f4fc9e-4ed9-437a-94c9-e64f9a57660c",
   "metadata": {},
   "source": [
    "Answer 5 is given below :"
   ]
  },
  {
   "cell_type": "code",
   "execution_count": 19,
   "id": "f9942489-f243-473b-b411-ef76d8d99d2f",
   "metadata": {},
   "outputs": [
    {
     "name": "stdout",
     "output_type": "stream",
     "text": [
      "0\n",
      "1\n",
      "11\n",
      "1001\n"
     ]
    }
   ],
   "source": [
    "def print_binary(n):\n",
    "    if n == 0:  \n",
    "        print(0, end='')\n",
    "    else:\n",
    "        _print_binary_helper(n)\n",
    "def _print_binary_helper(n):\n",
    "    if n > 0:\n",
    "        _print_binary_helper(n // 2)  \n",
    "        print(n % 2, end='') \n",
    "print_binary(0)  \n",
    "print()           \n",
    "print_binary(1)  \n",
    "print()           \n",
    "print_binary(3)  \n",
    "print()          \n",
    "print_binary(9)  \n",
    "print()          \n",
    "\n"
   ]
  },
  {
   "cell_type": "markdown",
   "id": "7cc56ff6-a0a6-4025-8930-88d2248c57a8",
   "metadata": {},
   "source": [
    "Question :\n",
    ". Suppose list words is defined as follows:\n",
    ">>> words = ['The', 'quick', 'brown', 'fox', 'jumps', 'over',\n",
    "'the', 'lazy', 'dog']\n",
    "Write list comprehension expressions that use list words and generate the following\n",
    "lists:\n",
    "a) ['THE', 'QUICK', 'BROWN', 'FOX', 'JUMPS', 'OVER', 'THE',\n",
    "'LAZY', 'DOG']\n",
    "b) ['the', 'quick', 'brown', 'fox', 'jumps', 'over', 'the',\n",
    "'lazy', 'dog']\n",
    "c) [3, 5, 5, 3, 5, 4, 3, 4, 3] (the list of lengths of words in list\n",
    "words).\n",
    "d) [['THE', 'the', 3], ['QUICK', 'quick', 5], ['BROWN',\n",
    "'brown', 5], ['FOX', 'fox', 3], ['JUMPS', 'jumps', 5],\n",
    "['OVER', 'over', 4], ['THE', 'the', 3], ['LAZY', 'lazy',\n",
    "4], ['DOG', 'dog', 3]] (the list containing a list for every word of list\n",
    "words, where each list contains the word in uppercase and lowercase and the\n",
    "length of the word.)\n",
    "e) ['The', 'quick', 'brown', 'fox', 'jumps', 'over', 'the',\n",
    "'lazy', 'dog'] (the list of words in list words containing 4 or more\n",
    "characters.)"
   ]
  },
  {
   "cell_type": "code",
   "execution_count": 21,
   "id": "44127f20-dc5e-4b4c-9d47-983fcff1f2f2",
   "metadata": {},
   "outputs": [
    {
     "name": "stdout",
     "output_type": "stream",
     "text": [
      "['THE', 'QUICK', 'BROWN', 'FOX', 'JUMPS', 'OVER', 'THE', 'LAZY', 'DOG']\n",
      "['the', 'quick', 'brown', 'fox', 'jumps', 'over', 'the', 'lazy', 'dog']\n",
      "[3, 5, 5, 3, 5, 4, 3, 4, 3]\n",
      "[['THE', 'the', 3], ['QUICK', 'quick', 5], ['BROWN', 'brown', 5], ['FOX', 'fox', 3], ['JUMPS', 'jumps', 5], ['OVER', 'over', 4], ['THE', 'the', 3], ['LAZY', 'lazy', 4], ['DOG', 'dog', 3]]\n",
      "['quick', 'brown', 'jumps', 'over', 'lazy']\n"
     ]
    }
   ],
   "source": [
    "words = ['The', 'quick', 'brown', 'fox', 'jumps', 'over', 'the', 'lazy', 'dog']\n",
    "upper_words = [word.upper() for word in words]\n",
    "lower_words = [word.lower() for word in words]\n",
    "word_lengths = [len(word) for word in words]\n",
    "word_info = [[word.upper(), word.lower(), len(word)] for word in words]\n",
    "long_words = [word for word in words if len(word) >= 4]\n",
    "print(upper_words)\n",
    "print(lower_words)\n",
    "print(word_lengths)\n",
    "print(word_info)\n",
    "print(long_words)\n"
   ]
  },
  {
   "cell_type": "markdown",
   "id": "df077a78-35e0-4ab7-bc8a-1014a552bf37",
   "metadata": {},
   "source": [
    "Question 8\n",
    "Write SQL queries on the below database table that return:\n",
    "a) All the temperature data.\n",
    "b) All the cities, but without repetition.\n",
    "c) All the records for India.\n",
    "d) All the Fall recordse) The city, country, and season for which the average rainfall is between 200\n",
    "and 400 millimeters.\n",
    "f) The city and country for which the average Fall temperature is above 20\n",
    "degrees, in increasing temperature order.\n",
    "g) The total annual rainfall for Cairo.\n",
    "h) The total rainfall for each season"
   ]
  },
  {
   "cell_type": "markdown",
   "id": "a0d6c69f-b7fc-4cba-80ac-2d3dbc50e330",
   "metadata": {},
   "source": [
    "Answer is given below :"
   ]
  },
  {
   "cell_type": "markdown",
   "id": "058b8614-cd33-4573-9c85-2c049fab779f",
   "metadata": {},
   "source": [
    "Here are the SQL queries for the data_weather table \n",
    "\n",
    "All temperature data:\n",
    "SELECT Temperature FROM data_weather;\n",
    "\n",
    "All distinct cities:\n",
    "SELECT DISTINCT City FROM data_weather;\n",
    "\n",
    "All records for India:\n",
    "SELECT * FROM data_weather WHERE Country = 'India';\n",
    "\n",
    "All Fall records:\n",
    "SELECT * FROM data_weather WHERE Season = 'Fall';\n",
    "\n",
    "City, country, and season with average rainfall between 200 and 400 mm:\n",
    "SELECT City, Country, Season FROM data_weather GROUP BY City, Country, Season HAVING AVG(Rainfall) BETWEEN 200 AND 400;\n",
    "\n",
    "City and country with average Fall temperature above 20 degrees:\n",
    "SELECT City, Country FROM data_weather WHERE Season = 'Fall' GROUP BY City, Country HAVING AVG(Temperature) > 20 ORDER BY AVG(Temperature) ASC;\n",
    "\n",
    "Total annual rainfall for Cairo:\n",
    "SELECT SUM(Rainfall) AS TotalAnnualRainfall FROM data_weather WHERE City = 'Cairo';\n",
    "\n",
    "Total rainfall for each season:\n",
    "SELECT Season, SUM(Rainfall) AS TotalRainfall FROM data_weather GROUP BY Season;"
   ]
  },
  {
   "cell_type": "code",
   "execution_count": null,
   "id": "1e0038b7-dd33-4835-8f76-b10064effa65",
   "metadata": {},
   "outputs": [],
   "source": [
    "Question 7\n",
    "Implement recursive function webdir() that takes as input: a URL (as a string) and\n",
    "non-negative integers depth and indent. Your function should visit every web\n",
    "page reachable from the starting URL web page in depth clicks or less, and print\n",
    "each web page's URL. As shown below, indentation, specified by indent, should\n",
    "be used to indicate the depth of a URL.\n",
    ">>>\n",
    "webdir('http://reed.cs.depaul.edu/lperkovic/csc242/test1.html'\n",
    ", 2, 0)\n",
    "\n",
    "http://reed.cs.depaul.edu/lperkovic/csc242/test2.html\n",
    "http://reed.cs.depaul.edu/lperkovic/csc242/test4.html\n",
    "http://reed.cs.depaul.edu/lperkovic/csc242/test3.html\n",
    "http://reed.cs.depaul.edu/lperkovic/csc242/test4.html"
   ]
  },
  {
   "cell_type": "markdown",
   "id": "9d697590-537b-4d38-ab27-a5a7b1335c60",
   "metadata": {},
   "source": [
    "Answer 7 is given below :"
   ]
  },
  {
   "cell_type": "code",
   "execution_count": null,
   "id": "4d8a6a2d-a813-4588-b3e9-270d4b48c352",
   "metadata": {},
   "outputs": [],
   "source": [
    "import requests\n",
    "from bs4 import BeautifulSoup\n",
    "import time\n",
    "\n",
    "def web_directory(url, depth, indent):\n",
    "    if depth < 0:\n",
    "        return\n",
    "    \n",
    "    print(\" \" * indent + url)\n",
    "\n",
    "    try:\n",
    "        response = requests.get(url)\n",
    "        response.raise_for_status()\n",
    "    except requests.exceptions.RequestException as e:\n",
    "        print(f\"Error accessing {url}: {e}\")\n",
    "        return\n",
    "    soup = BeautifulSoup(response.text, 'html.parser')\n",
    "    links = soup.find_all('a', href=True)\n",
    "    for link in links:\n",
    "\n",
    "        new_url = link['href']\n",
    "        if not new_url.startswith(\"http\"):\n",
    "    \n",
    "            new_url = requests.compat.urljoin(url, new_url)\n",
    "        web_directory(new_url, depth - 1, indent + 4)\n",
    "\n",
    "        time.sleep(0.5) \n",
    "#web_directory('https://example.com', 2, 0)\n",
    "web_directory('http://reed.cs.depaul.edu/lperkovic/csc242/test1.html', 2, 0)\n"
   ]
  },
  {
   "cell_type": "markdown",
   "id": "08afd655-abac-4f91-9424-6f48868b03d2",
   "metadata": {},
   "source": [
    "Question 9                                                                                                                                               <!<DOCTYPE html>\n",
    "<html lang=\"en\">\n",
    "\n",
    "<head>\n",
    "  <meta name=\"description\" content=\"Webpage description goes here\" />\n",
    "  <meta charset=\"utf-8\">\n",
    "  <title>Change_me</title>\n",
    "  <meta name=\"viewport\" content=\"width=device-width, initial-scale=1\">\n",
    "  <meta name=\"author\" content=\"\">\n",
    "  <link rel=\"stylesheet\" href=\"css/style.css\">\n",
    "</head>\n",
    "\n",
    "<body>\n",
    "  \n",
    "\t<h1>W3C Mission</h1>\n",
    "\t<h2>Principles</h2>\n",
    "</body>\n",
    "</html>\n",
    "Implement a class named HeadingParser that can be used to parse an HTML\n",
    "document, and retrieve and print all the headings in the document. You should\n",
    "implement your class as a subclass of HTMLParser, defined in Standard Library\n",
    "module html.parser. When fed a string containing HTML code, your class should\n",
    "print the headings, one per line and in the order in which they appear in the\n",
    "document. Each heading should be indented as follows: an h1 heading should have ndentation 0, and h2 heading should have indentation 1, etc. Test your\n",
    "implementation using w3c.html.\n",
    ">>> infile = open('w3c.html')\n",
    ">>> content = infile.read()\n",
    ">>> infile.close()\n",
    ">>> hp = HeadingParser()\n",
    ">>> hp.feed(content)\n",
    "W3C Mission\n",
    "Principles"
   ]
  },
  {
   "cell_type": "code",
   "execution_count": null,
   "id": "dfa626fe-97b3-4e77-b732-68b4c61fcb4c",
   "metadata": {},
   "outputs": [],
   "source": [
    "from html.parser import HTMLParser\n",
    "\n",
    "class HeadingParser(HTMLParser):\n",
    "    def __init__(self):\n",
    "        super().__init__()\n",
    "        self.current_indent = 0\n",
    "\n",
    "    def handle_starttag(self, tag, attrs):\n",
    "        if tag in ['h1', 'h2', 'h3', 'h4', 'h5', 'h6']:\n",
    "            self.current_indent = int(tag[1]) - 1  \n",
    "\n",
    "    def handle_data(self, data):\n",
    "        if data.strip():\n",
    "            print(\" \" * self.current_indent + data)\n",
    "\n",
    "    def handle_endtag(self, tag):\n",
    "        if tag in ['h1', 'h2', 'h3', 'h4', 'h5', 'h6']:\n",
    "            self.current_indent = 0  \n",
    "\n",
    "infile = open('w3c.html')\n",
    "content = infile.read()\n",
    "infile.close()\n",
    "\n",
    "hp = HeadingParser()\n",
    "hp.feed(content)\n"
   ]
  },
  {
   "cell_type": "code",
   "execution_count": null,
   "id": "c82d4946-72b1-420a-b0d9-c6dd9f022dae",
   "metadata": {},
   "outputs": [],
   "source": []
  },
  {
   "cell_type": "code",
   "execution_count": null,
   "id": "1767097b-4d06-4696-ad4a-b9afa57fd34c",
   "metadata": {},
   "outputs": [],
   "source": []
  }
 ],
 "metadata": {
  "kernelspec": {
   "display_name": "Python 3 (ipykernel)",
   "language": "python",
   "name": "python3"
  },
  "language_info": {
   "codemirror_mode": {
    "name": "ipython",
    "version": 3
   },
   "file_extension": ".py",
   "mimetype": "text/x-python",
   "name": "python",
   "nbconvert_exporter": "python",
   "pygments_lexer": "ipython3",
   "version": "3.12.4"
  }
 },
 "nbformat": 4,
 "nbformat_minor": 5
}
